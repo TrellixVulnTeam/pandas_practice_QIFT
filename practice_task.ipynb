{
 "cells": [
  {
   "cell_type": "code",
   "execution_count": 1,
   "id": "f07c13bd",
   "metadata": {},
   "outputs": [],
   "source": [
    "import pandas as pd\n",
    "import numpy as np"
   ]
  },
  {
   "cell_type": "code",
   "execution_count": 2,
   "id": "a633caac",
   "metadata": {},
   "outputs": [
    {
     "data": {
      "text/html": [
       "<div>\n",
       "<style scoped>\n",
       "    .dataframe tbody tr th:only-of-type {\n",
       "        vertical-align: middle;\n",
       "    }\n",
       "\n",
       "    .dataframe tbody tr th {\n",
       "        vertical-align: top;\n",
       "    }\n",
       "\n",
       "    .dataframe thead th {\n",
       "        text-align: right;\n",
       "    }\n",
       "</style>\n",
       "<table border=\"1\" class=\"dataframe\">\n",
       "  <thead>\n",
       "    <tr style=\"text-align: right;\">\n",
       "      <th></th>\n",
       "      <th>Date</th>\n",
       "      <th>Product</th>\n",
       "      <th>Updated_Price</th>\n",
       "      <th>Discount</th>\n",
       "      <th>age</th>\n",
       "    </tr>\n",
       "  </thead>\n",
       "  <tbody>\n",
       "    <tr>\n",
       "      <th>0</th>\n",
       "      <td>10/2/2011</td>\n",
       "      <td>UMbreLla</td>\n",
       "      <td>1250</td>\n",
       "      <td>10</td>\n",
       "      <td>29</td>\n",
       "    </tr>\n",
       "    <tr>\n",
       "      <th>1</th>\n",
       "      <td>11/2/2011</td>\n",
       "      <td>maTress</td>\n",
       "      <td>1450</td>\n",
       "      <td>8</td>\n",
       "      <td>27</td>\n",
       "    </tr>\n",
       "    <tr>\n",
       "      <th>2</th>\n",
       "      <td>12/2/2011</td>\n",
       "      <td>BaDmintoN</td>\n",
       "      <td>1550</td>\n",
       "      <td>15</td>\n",
       "      <td>33</td>\n",
       "    </tr>\n",
       "    <tr>\n",
       "      <th>3</th>\n",
       "      <td>13/2/2011</td>\n",
       "      <td>Shuttle</td>\n",
       "      <td>400</td>\n",
       "      <td>10</td>\n",
       "      <td>35</td>\n",
       "    </tr>\n",
       "  </tbody>\n",
       "</table>\n",
       "</div>"
      ],
      "text/plain": [
       "        Date     Product  Updated_Price  Discount  age\n",
       "0  10/2/2011    UMbreLla           1250        10   29\n",
       "1  11/2/2011     maTress           1450         8   27\n",
       "2  12/2/2011  BaDmintoN            1550        15   33\n",
       "3  13/2/2011     Shuttle            400        10   35"
      ]
     },
     "execution_count": 2,
     "metadata": {},
     "output_type": "execute_result"
    }
   ],
   "source": [
    "df = pd.DataFrame({'Date':['10/2/2011', '11/2/2011', '12/2/2011', '13/2/2011'],\n",
    "                   'Product':[' UMbreLla', '  maTress', 'BaDmintoN ', 'Shuttle'],\n",
    "                   'Updated_Price':[1250, 1450, 1550, 400],\n",
    "                   'Discount':[10, 8, 15, 10],\n",
    "                   'age':[29,27,33,35]})\n",
    "                    \n",
    "df"
   ]
  },
  {
   "cell_type": "code",
   "execution_count": 9,
   "id": "ca644663",
   "metadata": {},
   "outputs": [
    {
     "data": {
      "text/html": [
       "<div>\n",
       "<style scoped>\n",
       "    .dataframe tbody tr th:only-of-type {\n",
       "        vertical-align: middle;\n",
       "    }\n",
       "\n",
       "    .dataframe tbody tr th {\n",
       "        vertical-align: top;\n",
       "    }\n",
       "\n",
       "    .dataframe thead th {\n",
       "        text-align: right;\n",
       "    }\n",
       "</style>\n",
       "<table border=\"1\" class=\"dataframe\">\n",
       "  <thead>\n",
       "    <tr style=\"text-align: right;\">\n",
       "      <th></th>\n",
       "      <th>Date</th>\n",
       "      <th>Product</th>\n",
       "      <th>Updated_Price</th>\n",
       "      <th>Discount</th>\n",
       "      <th>age</th>\n",
       "    </tr>\n",
       "  </thead>\n",
       "  <tbody>\n",
       "    <tr>\n",
       "      <th>0</th>\n",
       "      <td>10/2/2011</td>\n",
       "      <td>Umbrella</td>\n",
       "      <td>1250</td>\n",
       "      <td>10</td>\n",
       "      <td>29</td>\n",
       "    </tr>\n",
       "    <tr>\n",
       "      <th>1</th>\n",
       "      <td>11/2/2011</td>\n",
       "      <td>Matress</td>\n",
       "      <td>1450</td>\n",
       "      <td>8</td>\n",
       "      <td>27</td>\n",
       "    </tr>\n",
       "    <tr>\n",
       "      <th>2</th>\n",
       "      <td>12/2/2011</td>\n",
       "      <td>Badminton</td>\n",
       "      <td>1550</td>\n",
       "      <td>15</td>\n",
       "      <td>33</td>\n",
       "    </tr>\n",
       "    <tr>\n",
       "      <th>3</th>\n",
       "      <td>13/2/2011</td>\n",
       "      <td>Shuttle</td>\n",
       "      <td>400</td>\n",
       "      <td>10</td>\n",
       "      <td>35</td>\n",
       "    </tr>\n",
       "  </tbody>\n",
       "</table>\n",
       "</div>"
      ],
      "text/plain": [
       "        Date    Product  Updated_Price  Discount  age\n",
       "0  10/2/2011   Umbrella           1250        10   29\n",
       "1  11/2/2011    Matress           1450         8   27\n",
       "2  12/2/2011  Badminton           1550        15   33\n",
       "3  13/2/2011    Shuttle            400        10   35"
      ]
     },
     "execution_count": 9,
     "metadata": {},
     "output_type": "execute_result"
    }
   ],
   "source": [
    "df['Product'] = df['Product'].apply(lambda x : x.strip().capitalize())\n",
    "df"
   ]
  },
  {
   "cell_type": "code",
   "execution_count": 6,
   "id": "585e2c28",
   "metadata": {},
   "outputs": [
    {
     "data": {
      "text/plain": [
       "5"
      ]
     },
     "execution_count": 6,
     "metadata": {},
     "output_type": "execute_result"
    }
   ],
   "source": [
    "df.shape[1]"
   ]
  },
  {
   "cell_type": "code",
   "execution_count": 10,
   "id": "dae6c0e3",
   "metadata": {},
   "outputs": [
    {
     "data": {
      "text/html": [
       "<div>\n",
       "<style scoped>\n",
       "    .dataframe tbody tr th:only-of-type {\n",
       "        vertical-align: middle;\n",
       "    }\n",
       "\n",
       "    .dataframe tbody tr th {\n",
       "        vertical-align: top;\n",
       "    }\n",
       "\n",
       "    .dataframe thead th {\n",
       "        text-align: right;\n",
       "    }\n",
       "</style>\n",
       "<table border=\"1\" class=\"dataframe\">\n",
       "  <thead>\n",
       "    <tr style=\"text-align: right;\">\n",
       "      <th></th>\n",
       "      <th>a</th>\n",
       "      <th>b</th>\n",
       "      <th>c</th>\n",
       "      <th>d</th>\n",
       "      <th>e</th>\n",
       "    </tr>\n",
       "  </thead>\n",
       "  <tbody>\n",
       "    <tr>\n",
       "      <th>A</th>\n",
       "      <td>0.703133</td>\n",
       "      <td>0.915957</td>\n",
       "      <td>0.064217</td>\n",
       "      <td>0.633580</td>\n",
       "      <td>0.512197</td>\n",
       "    </tr>\n",
       "    <tr>\n",
       "      <th>B</th>\n",
       "      <td>0.866361</td>\n",
       "      <td>0.714078</td>\n",
       "      <td>0.258782</td>\n",
       "      <td>0.275275</td>\n",
       "      <td>0.419241</td>\n",
       "    </tr>\n",
       "    <tr>\n",
       "      <th>C</th>\n",
       "      <td>0.951301</td>\n",
       "      <td>0.242342</td>\n",
       "      <td>0.954751</td>\n",
       "      <td>0.680297</td>\n",
       "      <td>0.614161</td>\n",
       "    </tr>\n",
       "    <tr>\n",
       "      <th>D</th>\n",
       "      <td>0.508191</td>\n",
       "      <td>0.422002</td>\n",
       "      <td>0.510622</td>\n",
       "      <td>0.401903</td>\n",
       "      <td>0.509921</td>\n",
       "    </tr>\n",
       "    <tr>\n",
       "      <th>E</th>\n",
       "      <td>0.664406</td>\n",
       "      <td>0.475406</td>\n",
       "      <td>0.601219</td>\n",
       "      <td>0.330168</td>\n",
       "      <td>0.527689</td>\n",
       "    </tr>\n",
       "  </tbody>\n",
       "</table>\n",
       "</div>"
      ],
      "text/plain": [
       "          a         b         c         d         e\n",
       "A  0.703133  0.915957  0.064217  0.633580  0.512197\n",
       "B  0.866361  0.714078  0.258782  0.275275  0.419241\n",
       "C  0.951301  0.242342  0.954751  0.680297  0.614161\n",
       "D  0.508191  0.422002  0.510622  0.401903  0.509921\n",
       "E  0.664406  0.475406  0.601219  0.330168  0.527689"
      ]
     },
     "execution_count": 10,
     "metadata": {},
     "output_type": "execute_result"
    }
   ],
   "source": [
    " \n",
    "column=['a','b','c','d','e']\n",
    "index=['A','B','C','D','E']\n",
    "df1 = pd.DataFrame(np.random.rand(5,5),\n",
    "                  columns=column, index=index)\n",
    "df1"
   ]
  },
  {
   "cell_type": "code",
   "execution_count": 15,
   "id": "dfcd37ba",
   "metadata": {},
   "outputs": [
    {
     "data": {
      "text/html": [
       "<div>\n",
       "<style scoped>\n",
       "    .dataframe tbody tr th:only-of-type {\n",
       "        vertical-align: middle;\n",
       "    }\n",
       "\n",
       "    .dataframe tbody tr th {\n",
       "        vertical-align: top;\n",
       "    }\n",
       "\n",
       "    .dataframe thead th {\n",
       "        text-align: right;\n",
       "    }\n",
       "</style>\n",
       "<table border=\"1\" class=\"dataframe\">\n",
       "  <thead>\n",
       "    <tr style=\"text-align: right;\">\n",
       "      <th></th>\n",
       "      <th>a</th>\n",
       "      <th>b</th>\n",
       "      <th>c</th>\n",
       "      <th>d</th>\n",
       "      <th>e</th>\n",
       "    </tr>\n",
       "  </thead>\n",
       "  <tbody>\n",
       "    <tr>\n",
       "      <th>G</th>\n",
       "      <td>NaN</td>\n",
       "      <td>NaN</td>\n",
       "      <td>NaN</td>\n",
       "      <td>NaN</td>\n",
       "      <td>NaN</td>\n",
       "    </tr>\n",
       "    <tr>\n",
       "      <th>A</th>\n",
       "      <td>0.703133</td>\n",
       "      <td>0.915957</td>\n",
       "      <td>0.064217</td>\n",
       "      <td>0.633580</td>\n",
       "      <td>0.512197</td>\n",
       "    </tr>\n",
       "    <tr>\n",
       "      <th>K</th>\n",
       "      <td>NaN</td>\n",
       "      <td>NaN</td>\n",
       "      <td>NaN</td>\n",
       "      <td>NaN</td>\n",
       "      <td>NaN</td>\n",
       "    </tr>\n",
       "    <tr>\n",
       "      <th>C</th>\n",
       "      <td>0.951301</td>\n",
       "      <td>0.242342</td>\n",
       "      <td>0.954751</td>\n",
       "      <td>0.680297</td>\n",
       "      <td>0.614161</td>\n",
       "    </tr>\n",
       "    <tr>\n",
       "      <th>E</th>\n",
       "      <td>0.664406</td>\n",
       "      <td>0.475406</td>\n",
       "      <td>0.601219</td>\n",
       "      <td>0.330168</td>\n",
       "      <td>0.527689</td>\n",
       "    </tr>\n",
       "  </tbody>\n",
       "</table>\n",
       "</div>"
      ],
      "text/plain": [
       "          a         b         c         d         e\n",
       "G       NaN       NaN       NaN       NaN       NaN\n",
       "A  0.703133  0.915957  0.064217  0.633580  0.512197\n",
       "K       NaN       NaN       NaN       NaN       NaN\n",
       "C  0.951301  0.242342  0.954751  0.680297  0.614161\n",
       "E  0.664406  0.475406  0.601219  0.330168  0.527689"
      ]
     },
     "execution_count": 15,
     "metadata": {},
     "output_type": "execute_result"
    }
   ],
   "source": [
    "print('\\n\\nDataframe after reindexing rows: \\n')\n",
    "df1.reindex(['G', 'A', 'K', 'C', 'E'])"
   ]
  },
  {
   "cell_type": "code",
   "execution_count": 19,
   "id": "6960e1db",
   "metadata": {},
   "outputs": [
    {
     "name": "stdout",
     "output_type": "stream",
     "text": [
      "          e         a         b         c         d\n",
      "A  0.386596  0.839744  0.016181  0.853702  0.130061\n",
      "B  0.041618  0.669263  0.446098  0.022144  0.860055\n",
      "C  0.387480  0.780534  0.889898  0.192594  0.816662\n",
      "D  0.271370  0.600981  0.655786  0.414693  0.540933\n",
      "E  0.804931  0.714754  0.467485  0.892292  0.586924\n"
     ]
    }
   ],
   "source": [
    "column=['a','b','c','d','e']\n",
    "index=['A','B','C','D','E']\n",
    "df1 = pd.DataFrame(np.random.rand(5,5),\n",
    "           columns=column, index=index)\n",
    "df1\n",
    "column=['e','a','b','c','d']\n",
    "  \n",
    "# create the new index for columns\n",
    "print(df1.reindex(column, axis='columns'))"
   ]
  },
  {
   "cell_type": "code",
   "execution_count": 24,
   "id": "f0bd159c",
   "metadata": {},
   "outputs": [
    {
     "name": "stdout",
     "output_type": "stream",
     "text": [
      "          a         b         c    g    h\n",
      "A  0.696949  0.648501  0.572430  xyz  xyz\n",
      "B  0.189581  0.402278  0.651264  xyz  xyz\n",
      "C  0.796143  0.894402  0.553755  xyz  xyz\n",
      "D  0.320762  0.549914  0.063772  xyz  xyz\n",
      "E  0.779482  0.710630  0.090909  xyz  xyz\n"
     ]
    }
   ],
   "source": [
    "column =['a', 'b', 'c', 'd', 'e']\n",
    "index =['A', 'B', 'C', 'D', 'E']\n",
    "df1 = pd.DataFrame(np.random.rand(5, 5),\n",
    "        columns = column, index = index)\n",
    "df1\n",
    "column =['a', 'b', 'c', 'g', 'h']\n",
    "print(df1.reindex(column, axis ='columns', fill_value = 'xyz'))"
   ]
  },
  {
   "cell_type": "code",
   "execution_count": 25,
   "id": "67ab720c",
   "metadata": {},
   "outputs": [
    {
     "data": {
      "text/html": [
       "<div>\n",
       "<style scoped>\n",
       "    .dataframe tbody tr th:only-of-type {\n",
       "        vertical-align: middle;\n",
       "    }\n",
       "\n",
       "    .dataframe tbody tr th {\n",
       "        vertical-align: top;\n",
       "    }\n",
       "\n",
       "    .dataframe thead th {\n",
       "        text-align: right;\n",
       "    }\n",
       "</style>\n",
       "<table border=\"1\" class=\"dataframe\">\n",
       "  <thead>\n",
       "    <tr style=\"text-align: right;\">\n",
       "      <th></th>\n",
       "      <th>First_name</th>\n",
       "      <th>Last_name</th>\n",
       "      <th>Age</th>\n",
       "      <th>City</th>\n",
       "    </tr>\n",
       "  </thead>\n",
       "  <tbody>\n",
       "    <tr>\n",
       "      <th>0</th>\n",
       "      <td>Ram</td>\n",
       "      <td>Kumar</td>\n",
       "      <td>42</td>\n",
       "      <td>Mumbai</td>\n",
       "    </tr>\n",
       "    <tr>\n",
       "      <th>1</th>\n",
       "      <td>Mohan</td>\n",
       "      <td>Sharma</td>\n",
       "      <td>52</td>\n",
       "      <td>Noida</td>\n",
       "    </tr>\n",
       "    <tr>\n",
       "      <th>2</th>\n",
       "      <td>Tina</td>\n",
       "      <td>Ali</td>\n",
       "      <td>36</td>\n",
       "      <td>Pune</td>\n",
       "    </tr>\n",
       "    <tr>\n",
       "      <th>3</th>\n",
       "      <td>Jeetu</td>\n",
       "      <td>Gandhi</td>\n",
       "      <td>21</td>\n",
       "      <td>Delhi</td>\n",
       "    </tr>\n",
       "    <tr>\n",
       "      <th>4</th>\n",
       "      <td>Meera</td>\n",
       "      <td>Kumari</td>\n",
       "      <td>23</td>\n",
       "      <td>Bihar</td>\n",
       "    </tr>\n",
       "  </tbody>\n",
       "</table>\n",
       "</div>"
      ],
      "text/plain": [
       "  First_name Last_name  Age    City\n",
       "0        Ram     Kumar   42  Mumbai\n",
       "1      Mohan    Sharma   52   Noida\n",
       "2       Tina       Ali   36    Pune\n",
       "3      Jeetu    Gandhi   21   Delhi\n",
       "4      Meera    Kumari   23   Bihar"
      ]
     },
     "execution_count": 25,
     "metadata": {},
     "output_type": "execute_result"
    }
   ],
   "source": [
    " \n",
    "initial_data = {'First_name': ['Ram', 'Mohan', 'Tina', 'Jeetu', 'Meera'], \n",
    "        'Last_name': ['Kumar', 'Sharma', 'Ali', 'Gandhi', 'Kumari'], \n",
    "        'Age': [42, 52, 36, 21, 23], \n",
    "        'City': ['Mumbai', 'Noida', 'Pune', 'Delhi', 'Bihar']}\n",
    "  \n",
    "df = pd.DataFrame(initial_data, columns = ['First_name', 'Last_name',\n",
    "                                                      'Age', 'City'])\n",
    "df"
   ]
  },
  {
   "cell_type": "code",
   "execution_count": 27,
   "id": "c2cd4509",
   "metadata": {},
   "outputs": [
    {
     "data": {
      "text/html": [
       "<div>\n",
       "<style scoped>\n",
       "    .dataframe tbody tr th:only-of-type {\n",
       "        vertical-align: middle;\n",
       "    }\n",
       "\n",
       "    .dataframe tbody tr th {\n",
       "        vertical-align: top;\n",
       "    }\n",
       "\n",
       "    .dataframe thead th {\n",
       "        text-align: right;\n",
       "    }\n",
       "</style>\n",
       "<table border=\"1\" class=\"dataframe\">\n",
       "  <thead>\n",
       "    <tr style=\"text-align: right;\">\n",
       "      <th></th>\n",
       "      <th>First_name</th>\n",
       "      <th>Last_name</th>\n",
       "      <th>Age</th>\n",
       "      <th>City</th>\n",
       "      <th>Qualification</th>\n",
       "    </tr>\n",
       "  </thead>\n",
       "  <tbody>\n",
       "    <tr>\n",
       "      <th>0</th>\n",
       "      <td>Ram</td>\n",
       "      <td>Kumar</td>\n",
       "      <td>42</td>\n",
       "      <td>Mumbai</td>\n",
       "      <td>B.Com</td>\n",
       "    </tr>\n",
       "    <tr>\n",
       "      <th>1</th>\n",
       "      <td>Mohan</td>\n",
       "      <td>Sharma</td>\n",
       "      <td>52</td>\n",
       "      <td>Noida</td>\n",
       "      <td>IAS</td>\n",
       "    </tr>\n",
       "    <tr>\n",
       "      <th>2</th>\n",
       "      <td>Tina</td>\n",
       "      <td>Ali</td>\n",
       "      <td>36</td>\n",
       "      <td>Pune</td>\n",
       "      <td>LLB</td>\n",
       "    </tr>\n",
       "    <tr>\n",
       "      <th>3</th>\n",
       "      <td>Jeetu</td>\n",
       "      <td>Gandhi</td>\n",
       "      <td>21</td>\n",
       "      <td>Delhi</td>\n",
       "      <td>B.Tech</td>\n",
       "    </tr>\n",
       "    <tr>\n",
       "      <th>4</th>\n",
       "      <td>Meera</td>\n",
       "      <td>Kumari</td>\n",
       "      <td>23</td>\n",
       "      <td>Bihar</td>\n",
       "      <td>MBBS</td>\n",
       "    </tr>\n",
       "  </tbody>\n",
       "</table>\n",
       "</div>"
      ],
      "text/plain": [
       "  First_name Last_name  Age    City Qualification\n",
       "0        Ram     Kumar   42  Mumbai         B.Com\n",
       "1      Mohan    Sharma   52   Noida           IAS\n",
       "2       Tina       Ali   36    Pune           LLB\n",
       "3      Jeetu    Gandhi   21   Delhi        B.Tech\n",
       "4      Meera    Kumari   23   Bihar          MBBS"
      ]
     },
     "execution_count": 27,
     "metadata": {},
     "output_type": "execute_result"
    }
   ],
   "source": [
    "new_data = { \"Ram\":\"B.Com\",\n",
    "             \"Mohan\":\"IAS\",\n",
    "             \"Tina\":\"LLB\",\n",
    "             \"Jeetu\":\"B.Tech\",\n",
    "             \"Meera\":\"MBBS\" }\n",
    "  \n",
    "# combine this new data with existing DataFrame\n",
    "df[\"Qualification\"] = df[\"First_name\"].map(new_data)\n",
    "df"
   ]
  },
  {
   "cell_type": "code",
   "execution_count": 28,
   "id": "b9162018",
   "metadata": {},
   "outputs": [
    {
     "name": "stdout",
     "output_type": "stream",
     "text": [
      "  First_name Last_name  Age    City\n",
      "0      Shyam     Kumar   42  Mumbai\n",
      "1      Mohan    Sharma   52   Noida\n",
      "2       Riya       Ali   36    Pune\n",
      "3   Jitender    Gandhi   21   Delhi\n",
      "4      Meera    Kumari   23   Bihar\n"
     ]
    }
   ],
   "source": [
    "  \n",
    "initial_data = {'First_name': ['Ram', 'Mohan', 'Tina', 'Jeetu', 'Meera'], \n",
    "                'Last_name': ['Kumar', 'Sharma', 'Ali', 'Gandhi', 'Kumari'], \n",
    "                'Age': [42, 52, 36, 21, 23], \n",
    "                'City': ['Mumbai', 'Noida', 'Pune', 'Delhi', 'Bihar']}\n",
    "  \n",
    "df = pd.DataFrame(initial_data, columns = ['First_name', 'Last_name',\n",
    "                                                      'Age', 'City'])\n",
    "  \n",
    "# Create new column using dictionary\n",
    "new_data = { 0:\"Shyam\",\n",
    "             2:\"Riya\",\n",
    "             3:\"Jitender\" }\n",
    "  \n",
    "# combine this new data with existing DataFrame\n",
    "df[\"First_name\"].update(pd.Series(new_data))\n",
    "print(df)"
   ]
  },
  {
   "cell_type": "code",
   "execution_count": 33,
   "id": "0bfc2515",
   "metadata": {},
   "outputs": [
    {
     "name": "stdout",
     "output_type": "stream",
     "text": [
      "DatetimeIndex(['2019-01-01 00:00:00', '2019-01-01 00:01:00',\n",
      "               '2019-01-01 00:02:00', '2019-01-01 00:03:00',\n",
      "               '2019-01-01 00:04:00', '2019-01-01 00:05:00',\n",
      "               '2019-01-01 00:06:00', '2019-01-01 00:07:00',\n",
      "               '2019-01-01 00:08:00', '2019-01-01 00:09:00',\n",
      "               ...\n",
      "               '2019-01-07 23:51:00', '2019-01-07 23:52:00',\n",
      "               '2019-01-07 23:53:00', '2019-01-07 23:54:00',\n",
      "               '2019-01-07 23:55:00', '2019-01-07 23:56:00',\n",
      "               '2019-01-07 23:57:00', '2019-01-07 23:58:00',\n",
      "               '2019-01-07 23:59:00', '2019-01-08 00:00:00'],\n",
      "              dtype='datetime64[ns]', length=10081, freq='T')\n",
      "<class 'pandas._libs.tslibs.timestamps.Timestamp'>\n"
     ]
    }
   ],
   "source": [
    "import pandas as pd\n",
    "from datetime import datetime\n",
    "import numpy as np\n",
    "\n",
    "range_date = pd.date_range(start ='1/1/2019', end ='1/08/2019',freq ='min')\n",
    "print(range_date)\n",
    "print(type(range_date[110]))"
   ]
  },
  {
   "cell_type": "code",
   "execution_count": 38,
   "id": "341c0942",
   "metadata": {},
   "outputs": [
    {
     "name": "stdout",
     "output_type": "stream",
     "text": [
      "                     data\n",
      "datetime                 \n",
      "2019-01-05 00:01:00    27\n",
      "2019-01-05 00:02:00    43\n",
      "2019-01-05 00:03:00    19\n",
      "2019-01-05 00:04:00    61\n",
      "2019-01-05 00:05:00    89\n",
      "2019-01-05 00:06:00    35\n",
      "2019-01-05 00:07:00     3\n",
      "2019-01-05 00:08:00    22\n",
      "2019-01-05 00:09:00    51\n",
      "2019-01-05 00:10:00    20\n"
     ]
    },
    {
     "name": "stderr",
     "output_type": "stream",
     "text": [
      "C:\\Users\\prati\\AppData\\Local\\Temp\\ipykernel_9132\\2469051269.py:11: FutureWarning: Indexing a DataFrame with a datetimelike index using a single string to slice the rows, like `frame[string]`, is deprecated and will be removed in a future version. Use `frame.loc[string]` instead.\n",
      "  print(df['2019-01-05'][1:11])\n"
     ]
    }
   ],
   "source": [
    "range_data = pd.date_range(start ='1/1/2019', end ='1/08/2019',\n",
    "                                                  freq ='Min')\n",
    " \n",
    "df = pd.DataFrame(range_data, columns =['date'])\n",
    "df['data'] = np.random.randint(0, 100, size =(len(range_data)))\n",
    " \n",
    "df['datetime'] = pd.to_datetime(df['date'])\n",
    "df = df.set_index('datetime')\n",
    "df.drop(['date'], axis = 1, inplace = True)\n",
    " \n",
    "print(df['2019-01-05'][1:11])"
   ]
  },
  {
   "cell_type": "code",
   "execution_count": 41,
   "id": "40174983",
   "metadata": {},
   "outputs": [
    {
     "data": {
      "text/plain": [
       "Timestamp('2022-02-02 13:07:30.769714')"
      ]
     },
     "execution_count": 41,
     "metadata": {},
     "output_type": "execute_result"
    }
   ],
   "source": [
    "ts = pd.Timestamp(datetime.now())\n",
    "ts"
   ]
  },
  {
   "cell_type": "code",
   "execution_count": 42,
   "id": "038c89dd",
   "metadata": {},
   "outputs": [
    {
     "data": {
      "text/html": [
       "<div>\n",
       "<style scoped>\n",
       "    .dataframe tbody tr th:only-of-type {\n",
       "        vertical-align: middle;\n",
       "    }\n",
       "\n",
       "    .dataframe tbody tr th {\n",
       "        vertical-align: top;\n",
       "    }\n",
       "\n",
       "    .dataframe thead th {\n",
       "        text-align: right;\n",
       "    }\n",
       "</style>\n",
       "<table border=\"1\" class=\"dataframe\">\n",
       "  <thead>\n",
       "    <tr style=\"text-align: right;\">\n",
       "      <th></th>\n",
       "      <th>data</th>\n",
       "    </tr>\n",
       "    <tr>\n",
       "      <th>datetime</th>\n",
       "      <th></th>\n",
       "    </tr>\n",
       "  </thead>\n",
       "  <tbody>\n",
       "    <tr>\n",
       "      <th>2019-01-01 00:00:00</th>\n",
       "      <td>29</td>\n",
       "    </tr>\n",
       "    <tr>\n",
       "      <th>2019-01-01 00:01:00</th>\n",
       "      <td>76</td>\n",
       "    </tr>\n",
       "    <tr>\n",
       "      <th>2019-01-01 00:02:00</th>\n",
       "      <td>7</td>\n",
       "    </tr>\n",
       "    <tr>\n",
       "      <th>2019-01-01 00:03:00</th>\n",
       "      <td>72</td>\n",
       "    </tr>\n",
       "    <tr>\n",
       "      <th>2019-01-01 00:04:00</th>\n",
       "      <td>34</td>\n",
       "    </tr>\n",
       "    <tr>\n",
       "      <th>...</th>\n",
       "      <td>...</td>\n",
       "    </tr>\n",
       "    <tr>\n",
       "      <th>2019-01-07 23:56:00</th>\n",
       "      <td>40</td>\n",
       "    </tr>\n",
       "    <tr>\n",
       "      <th>2019-01-07 23:57:00</th>\n",
       "      <td>40</td>\n",
       "    </tr>\n",
       "    <tr>\n",
       "      <th>2019-01-07 23:58:00</th>\n",
       "      <td>11</td>\n",
       "    </tr>\n",
       "    <tr>\n",
       "      <th>2019-01-07 23:59:00</th>\n",
       "      <td>80</td>\n",
       "    </tr>\n",
       "    <tr>\n",
       "      <th>2019-01-08 00:00:00</th>\n",
       "      <td>72</td>\n",
       "    </tr>\n",
       "  </tbody>\n",
       "</table>\n",
       "<p>10081 rows × 1 columns</p>\n",
       "</div>"
      ],
      "text/plain": [
       "                     data\n",
       "datetime                 \n",
       "2019-01-01 00:00:00    29\n",
       "2019-01-01 00:01:00    76\n",
       "2019-01-01 00:02:00     7\n",
       "2019-01-01 00:03:00    72\n",
       "2019-01-01 00:04:00    34\n",
       "...                   ...\n",
       "2019-01-07 23:56:00    40\n",
       "2019-01-07 23:57:00    40\n",
       "2019-01-07 23:58:00    11\n",
       "2019-01-07 23:59:00    80\n",
       "2019-01-08 00:00:00    72\n",
       "\n",
       "[10081 rows x 1 columns]"
      ]
     },
     "execution_count": 42,
     "metadata": {},
     "output_type": "execute_result"
    }
   ],
   "source": []
  },
  {
   "cell_type": "code",
   "execution_count": 43,
   "id": "26bdf7b3",
   "metadata": {},
   "outputs": [
    {
     "data": {
      "text/html": [
       "<div>\n",
       "<style scoped>\n",
       "    .dataframe tbody tr th:only-of-type {\n",
       "        vertical-align: middle;\n",
       "    }\n",
       "\n",
       "    .dataframe tbody tr th {\n",
       "        vertical-align: top;\n",
       "    }\n",
       "\n",
       "    .dataframe thead th {\n",
       "        text-align: right;\n",
       "    }\n",
       "</style>\n",
       "<table border=\"1\" class=\"dataframe\">\n",
       "  <thead>\n",
       "    <tr style=\"text-align: right;\">\n",
       "      <th></th>\n",
       "      <th>NAME</th>\n",
       "      <th>AGE</th>\n",
       "      <th>DEPARTMENT</th>\n",
       "      <th>DATE_OF_JOIN</th>\n",
       "      <th>DATE_OF_EXIT</th>\n",
       "    </tr>\n",
       "  </thead>\n",
       "  <tbody>\n",
       "    <tr>\n",
       "      <th>0</th>\n",
       "      <td>kunal</td>\n",
       "      <td>23.0</td>\n",
       "      <td>marketing</td>\n",
       "      <td>2021-01-01</td>\n",
       "      <td>2022-05-09</td>\n",
       "    </tr>\n",
       "    <tr>\n",
       "      <th>1</th>\n",
       "      <td>shubham</td>\n",
       "      <td>21.0</td>\n",
       "      <td>it</td>\n",
       "      <td>2022-02-01</td>\n",
       "      <td>2022-08-08</td>\n",
       "    </tr>\n",
       "    <tr>\n",
       "      <th>2</th>\n",
       "      <td>vaibhu</td>\n",
       "      <td>33.0</td>\n",
       "      <td>arts</td>\n",
       "      <td>2021-09-03</td>\n",
       "      <td>2022-04-03</td>\n",
       "    </tr>\n",
       "    <tr>\n",
       "      <th>3</th>\n",
       "      <td>karan</td>\n",
       "      <td>25.0</td>\n",
       "      <td>ui</td>\n",
       "      <td>2022-02-01</td>\n",
       "      <td>2021-09-05</td>\n",
       "    </tr>\n",
       "    <tr>\n",
       "      <th>4</th>\n",
       "      <td>yash</td>\n",
       "      <td>26.0</td>\n",
       "      <td>arts</td>\n",
       "      <td>2022-07-04</td>\n",
       "      <td>2022-12-12</td>\n",
       "    </tr>\n",
       "    <tr>\n",
       "      <th>5</th>\n",
       "      <td>sanket</td>\n",
       "      <td>24.0</td>\n",
       "      <td>it</td>\n",
       "      <td>2022-09-22</td>\n",
       "      <td>2022-11-14</td>\n",
       "    </tr>\n",
       "    <tr>\n",
       "      <th>6</th>\n",
       "      <td>chirag</td>\n",
       "      <td>29.0</td>\n",
       "      <td>arts</td>\n",
       "      <td>2021-05-07</td>\n",
       "      <td>2021-08-09</td>\n",
       "    </tr>\n",
       "    <tr>\n",
       "      <th>7</th>\n",
       "      <td>mayank</td>\n",
       "      <td>34.0</td>\n",
       "      <td>marketing</td>\n",
       "      <td>2021-05-04</td>\n",
       "      <td>2021-07-08</td>\n",
       "    </tr>\n",
       "    <tr>\n",
       "      <th>8</th>\n",
       "      <td>nitesh</td>\n",
       "      <td>67.0</td>\n",
       "      <td>it</td>\n",
       "      <td>2022-05-18</td>\n",
       "      <td>2022-07-20</td>\n",
       "    </tr>\n",
       "    <tr>\n",
       "      <th>9</th>\n",
       "      <td>dhrvu</td>\n",
       "      <td>39.0</td>\n",
       "      <td>marketing</td>\n",
       "      <td>2022-02-23</td>\n",
       "      <td>2022-05-21</td>\n",
       "    </tr>\n",
       "    <tr>\n",
       "      <th>10</th>\n",
       "      <td>morya</td>\n",
       "      <td>18.0</td>\n",
       "      <td>it</td>\n",
       "      <td>2021-04-12</td>\n",
       "      <td>2021-04-27</td>\n",
       "    </tr>\n",
       "    <tr>\n",
       "      <th>11</th>\n",
       "      <td>shahhed</td>\n",
       "      <td>20.0</td>\n",
       "      <td>arts</td>\n",
       "      <td>2021-06-12</td>\n",
       "      <td>2021-09-19</td>\n",
       "    </tr>\n",
       "    <tr>\n",
       "      <th>12</th>\n",
       "      <td>amjad</td>\n",
       "      <td>40.0</td>\n",
       "      <td>marketing</td>\n",
       "      <td>2020-02-22</td>\n",
       "      <td>2022-05-11</td>\n",
       "    </tr>\n",
       "    <tr>\n",
       "      <th>13</th>\n",
       "      <td>bablu</td>\n",
       "      <td>46.0</td>\n",
       "      <td>it</td>\n",
       "      <td>2019-09-08</td>\n",
       "      <td>2020-09-09</td>\n",
       "    </tr>\n",
       "  </tbody>\n",
       "</table>\n",
       "</div>"
      ],
      "text/plain": [
       "       NAME   AGE DEPARTMENT DATE_OF_JOIN DATE_OF_EXIT\n",
       "0     kunal  23.0  marketing   2021-01-01   2022-05-09\n",
       "1   shubham  21.0         it   2022-02-01   2022-08-08\n",
       "2    vaibhu  33.0       arts   2021-09-03   2022-04-03\n",
       "3     karan  25.0         ui   2022-02-01   2021-09-05\n",
       "4      yash  26.0       arts   2022-07-04   2022-12-12\n",
       "5    sanket  24.0         it   2022-09-22   2022-11-14\n",
       "6    chirag  29.0       arts   2021-05-07   2021-08-09\n",
       "7    mayank  34.0  marketing   2021-05-04   2021-07-08\n",
       "8    nitesh  67.0         it   2022-05-18   2022-07-20\n",
       "9     dhrvu  39.0  marketing   2022-02-23   2022-05-21\n",
       "10    morya  18.0         it   2021-04-12   2021-04-27\n",
       "11  shahhed  20.0       arts   2021-06-12   2021-09-19\n",
       "12    amjad  40.0  marketing   2020-02-22   2022-05-11\n",
       "13    bablu  46.0         it   2019-09-08   2020-09-09"
      ]
     },
     "execution_count": 43,
     "metadata": {},
     "output_type": "execute_result"
    }
   ],
   "source": [
    "data = pd.read_excel('xyz.xlsx')\n",
    "data"
   ]
  },
  {
   "cell_type": "code",
   "execution_count": 49,
   "id": "24edd47e",
   "metadata": {},
   "outputs": [
    {
     "data": {
      "text/html": [
       "<div>\n",
       "<style scoped>\n",
       "    .dataframe tbody tr th:only-of-type {\n",
       "        vertical-align: middle;\n",
       "    }\n",
       "\n",
       "    .dataframe tbody tr th {\n",
       "        vertical-align: top;\n",
       "    }\n",
       "\n",
       "    .dataframe thead th {\n",
       "        text-align: right;\n",
       "    }\n",
       "</style>\n",
       "<table border=\"1\" class=\"dataframe\">\n",
       "  <thead>\n",
       "    <tr style=\"text-align: right;\">\n",
       "      <th></th>\n",
       "      <th>NAME</th>\n",
       "      <th>DEPARTMENT</th>\n",
       "      <th>DATE_OF_JOIN</th>\n",
       "      <th>DATE_OF_EXIT</th>\n",
       "    </tr>\n",
       "    <tr>\n",
       "      <th>AGE</th>\n",
       "      <th></th>\n",
       "      <th></th>\n",
       "      <th></th>\n",
       "      <th></th>\n",
       "    </tr>\n",
       "  </thead>\n",
       "  <tbody>\n",
       "    <tr>\n",
       "      <th>18</th>\n",
       "      <td>morya</td>\n",
       "      <td>it</td>\n",
       "      <td>2021-04-12</td>\n",
       "      <td>2021-04-27</td>\n",
       "    </tr>\n",
       "    <tr>\n",
       "      <th>20</th>\n",
       "      <td>shahhed</td>\n",
       "      <td>arts</td>\n",
       "      <td>2021-06-12</td>\n",
       "      <td>2021-09-19</td>\n",
       "    </tr>\n",
       "    <tr>\n",
       "      <th>21</th>\n",
       "      <td>shubham</td>\n",
       "      <td>it</td>\n",
       "      <td>2022-02-01</td>\n",
       "      <td>2022-08-08</td>\n",
       "    </tr>\n",
       "    <tr>\n",
       "      <th>23</th>\n",
       "      <td>kunal</td>\n",
       "      <td>marketing</td>\n",
       "      <td>2021-01-01</td>\n",
       "      <td>2022-05-09</td>\n",
       "    </tr>\n",
       "    <tr>\n",
       "      <th>24</th>\n",
       "      <td>sanket</td>\n",
       "      <td>it</td>\n",
       "      <td>2022-09-22</td>\n",
       "      <td>2022-11-14</td>\n",
       "    </tr>\n",
       "    <tr>\n",
       "      <th>25</th>\n",
       "      <td>karan</td>\n",
       "      <td>ui</td>\n",
       "      <td>2022-02-01</td>\n",
       "      <td>2021-09-05</td>\n",
       "    </tr>\n",
       "    <tr>\n",
       "      <th>26</th>\n",
       "      <td>yash</td>\n",
       "      <td>arts</td>\n",
       "      <td>2022-07-04</td>\n",
       "      <td>2022-12-12</td>\n",
       "    </tr>\n",
       "    <tr>\n",
       "      <th>29</th>\n",
       "      <td>chirag</td>\n",
       "      <td>arts</td>\n",
       "      <td>2021-05-07</td>\n",
       "      <td>2021-08-09</td>\n",
       "    </tr>\n",
       "    <tr>\n",
       "      <th>33</th>\n",
       "      <td>vaibhu</td>\n",
       "      <td>arts</td>\n",
       "      <td>2021-09-03</td>\n",
       "      <td>2022-04-03</td>\n",
       "    </tr>\n",
       "    <tr>\n",
       "      <th>34</th>\n",
       "      <td>mayank</td>\n",
       "      <td>marketing</td>\n",
       "      <td>2021-05-04</td>\n",
       "      <td>2021-07-08</td>\n",
       "    </tr>\n",
       "    <tr>\n",
       "      <th>39</th>\n",
       "      <td>dhrvu</td>\n",
       "      <td>marketing</td>\n",
       "      <td>2022-02-23</td>\n",
       "      <td>2022-05-21</td>\n",
       "    </tr>\n",
       "    <tr>\n",
       "      <th>40</th>\n",
       "      <td>amjad</td>\n",
       "      <td>marketing</td>\n",
       "      <td>2020-02-22</td>\n",
       "      <td>2022-05-11</td>\n",
       "    </tr>\n",
       "    <tr>\n",
       "      <th>46</th>\n",
       "      <td>bablu</td>\n",
       "      <td>it</td>\n",
       "      <td>2019-09-08</td>\n",
       "      <td>2020-09-09</td>\n",
       "    </tr>\n",
       "    <tr>\n",
       "      <th>67</th>\n",
       "      <td>nitesh</td>\n",
       "      <td>it</td>\n",
       "      <td>2022-05-18</td>\n",
       "      <td>2022-07-20</td>\n",
       "    </tr>\n",
       "  </tbody>\n",
       "</table>\n",
       "</div>"
      ],
      "text/plain": [
       "        NAME DEPARTMENT DATE_OF_JOIN DATE_OF_EXIT\n",
       "AGE                                              \n",
       "18     morya         it   2021-04-12   2021-04-27\n",
       "20   shahhed       arts   2021-06-12   2021-09-19\n",
       "21   shubham         it   2022-02-01   2022-08-08\n",
       "23     kunal  marketing   2021-01-01   2022-05-09\n",
       "24    sanket         it   2022-09-22   2022-11-14\n",
       "25     karan         ui   2022-02-01   2021-09-05\n",
       "26      yash       arts   2022-07-04   2022-12-12\n",
       "29    chirag       arts   2021-05-07   2021-08-09\n",
       "33    vaibhu       arts   2021-09-03   2022-04-03\n",
       "34    mayank  marketing   2021-05-04   2021-07-08\n",
       "39     dhrvu  marketing   2022-02-23   2022-05-21\n",
       "40     amjad  marketing   2020-02-22   2022-05-11\n",
       "46     bablu         it   2019-09-08   2020-09-09\n",
       "67    nitesh         it   2022-05-18   2022-07-20"
      ]
     },
     "execution_count": 49,
     "metadata": {},
     "output_type": "execute_result"
    }
   ],
   "source": [
    "data['AGE'] = data['AGE'].astype(int)\n",
    "data.set_index('AGE' , inplace=True)\n",
    "data.sort_values('AGE')"
   ]
  },
  {
   "cell_type": "code",
   "execution_count": 51,
   "id": "f9b53e89",
   "metadata": {},
   "outputs": [
    {
     "data": {
      "text/plain": [
       "Index           112\n",
       "NAME            876\n",
       "DEPARTMENT      862\n",
       "DATE_OF_JOIN    112\n",
       "DATE_OF_EXIT    112\n",
       "dtype: int64"
      ]
     },
     "execution_count": 51,
     "metadata": {},
     "output_type": "execute_result"
    }
   ],
   "source": [
    "data.memory_usage(deep=True)"
   ]
  },
  {
   "cell_type": "code",
   "execution_count": 61,
   "id": "dd9407fe",
   "metadata": {},
   "outputs": [
    {
     "data": {
      "text/plain": [
       "<AxesSubplot:title={'center':'NAME'}>"
      ]
     },
     "execution_count": 61,
     "metadata": {},
     "output_type": "execute_result"
    },
    {
     "data": {
      "image/png": "[encoded data removed]",
      "text/plain": [
       "<Figure size 432x288 with 1 Axes>"
      ]
     },
     "metadata": {
      "needs_background": "light"
     },
     "output_type": "display_data"
    }
   ],
   "source": [
    "data['NAME'].value_counts(normalize=True).plot(kind='bar', title='NAME')\n"
   ]
  },
  {
   "cell_type": "code",
   "execution_count": 70,
   "id": "226202b4",
   "metadata": {},
   "outputs": [
    {
     "data": {
      "text/html": [
       "<div>\n",
       "<style scoped>\n",
       "    .dataframe tbody tr th:only-of-type {\n",
       "        vertical-align: middle;\n",
       "    }\n",
       "\n",
       "    .dataframe tbody tr th {\n",
       "        vertical-align: top;\n",
       "    }\n",
       "\n",
       "    .dataframe thead th {\n",
       "        text-align: right;\n",
       "    }\n",
       "</style>\n",
       "<table border=\"1\" class=\"dataframe\">\n",
       "  <thead>\n",
       "    <tr style=\"text-align: right;\">\n",
       "      <th></th>\n",
       "      <th>NAME</th>\n",
       "      <th>DATE_OF_JOIN</th>\n",
       "      <th>DATE_OF_EXIT</th>\n",
       "    </tr>\n",
       "    <tr>\n",
       "      <th>DEPARTMENT</th>\n",
       "      <th></th>\n",
       "      <th></th>\n",
       "      <th></th>\n",
       "    </tr>\n",
       "  </thead>\n",
       "  <tbody>\n",
       "    <tr>\n",
       "      <th>arts</th>\n",
       "      <td>4</td>\n",
       "      <td>4</td>\n",
       "      <td>4</td>\n",
       "    </tr>\n",
       "    <tr>\n",
       "      <th>it</th>\n",
       "      <td>5</td>\n",
       "      <td>5</td>\n",
       "      <td>5</td>\n",
       "    </tr>\n",
       "    <tr>\n",
       "      <th>marketing</th>\n",
       "      <td>4</td>\n",
       "      <td>4</td>\n",
       "      <td>4</td>\n",
       "    </tr>\n",
       "    <tr>\n",
       "      <th>ui</th>\n",
       "      <td>1</td>\n",
       "      <td>1</td>\n",
       "      <td>1</td>\n",
       "    </tr>\n",
       "  </tbody>\n",
       "</table>\n",
       "</div>"
      ],
      "text/plain": [
       "            NAME  DATE_OF_JOIN  DATE_OF_EXIT\n",
       "DEPARTMENT                                  \n",
       "arts           4             4             4\n",
       "it             5             5             5\n",
       "marketing      4             4             4\n",
       "ui             1             1             1"
      ]
     },
     "execution_count": 70,
     "metadata": {},
     "output_type": "execute_result"
    }
   ],
   "source": [
    "gh = data.groupby(by='DEPARTMENT').count()\n",
    "gh.drop_duplicates()\n",
    "gh"
   ]
  },
  {
   "cell_type": "code",
   "execution_count": 91,
   "id": "9949f460",
   "metadata": {},
   "outputs": [],
   "source": [
    "# data1 = data.fillna()\n",
    "# data1\n"
   ]
  },
  {
   "cell_type": "code",
   "execution_count": 90,
   "id": "cdc0d430",
   "metadata": {},
   "outputs": [
    {
     "data": {
      "image/png": "[encoded data removed]",
      "text/plain": [
       "<Figure size 432x288 with 1 Axes>"
      ]
     },
     "metadata": {
      "needs_background": "light"
     },
     "output_type": "display_data"
    }
   ],
   "source": [
    "ts = pd.Series(np.random.randn(1000), index=pd.date_range(\"1/1/2000\", periods=1000))\n",
    "\n",
    "ts = ts.cumsum()\n",
    "\n",
    "ts.plot();"
   ]
  },
  {
   "cell_type": "code",
   "execution_count": 106,
   "id": "067d05ba",
   "metadata": {},
   "outputs": [
    {
     "data": {
      "image/png": "[encoded data removed]",
      "text/plain": [
       "<Figure size 432x432 with 1 Axes>"
      ]
     },
     "metadata": {},
     "output_type": "display_data"
    }
   ],
   "source": [
    "series = pd.Series(3 * np.random.rand(4), index=[\"a\", \"b\", \"c\", \"d\"], name=\"series\")\n",
    "\n",
    "series.plot.pie(figsize=(6, 6));\n",
    "plt.savefig(\"gsh.pdf\")"
   ]
  },
  {
   "cell_type": "code",
   "execution_count": 105,
   "id": "36ed46ac",
   "metadata": {},
   "outputs": [
    {
     "data": {
      "text/plain": [
       "<Figure size 432x288 with 0 Axes>"
      ]
     },
     "metadata": {},
     "output_type": "display_data"
    },
    {
     "data": {
      "image/png": "[encoded data removed]",
      "text/plain": [
       "<Figure size 432x288 with 1 Axes>"
      ]
     },
     "metadata": {
      "needs_background": "light"
     },
     "output_type": "display_data"
    }
   ],
   "source": [
    "df4 = pd.DataFrame(\n",
    "    {\n",
    "        \"a\": np.random.randn(1000) + 1,\n",
    "        \"b\": np.random.randn(1000),\n",
    "        \"c\": np.random.randn(1000) - 1,\n",
    "    },\n",
    "    columns=[\"a\", \"b\", \"c\"],\n",
    ")\n",
    "\n",
    "\n",
    "plt.figure();\n",
    "\n",
    "df4.plot.hist(alpha=0.5);\n",
    "plt.savefig(\"gh.pdf\")"
   ]
  },
  {
   "cell_type": "code",
   "execution_count": null,
   "id": "ced9b9a9",
   "metadata": {},
   "outputs": [],
   "source": []
  }
 ],
 "metadata": {
  "kernelspec": {
   "display_name": "Python 3 (ipykernel)",
   "language": "python",
   "name": "python3"
  },
  "language_info": {
   "codemirror_mode": {
    "name": "ipython",
    "version": 3
   },
   "file_extension": ".py",
   "mimetype": "text/x-python",
   "name": "python",
   "nbconvert_exporter": "python",
   "pygments_lexer": "ipython3",
   "version": "3.10.2"
  }
 },
 "nbformat": 4,
 "nbformat_minor": 5
}
