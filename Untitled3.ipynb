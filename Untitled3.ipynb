{
 "cells": [
  {
   "cell_type": "code",
   "execution_count": null,
   "id": "c65ae1b2",
   "metadata": {},
   "outputs": [],
   "source": [
    "import pandas as pd\n",
    "import matplotlib.pyplot as plt\n",
    "\n",
    "data = {\n",
    "    'CITY':['mumbai' , 'pune' , 'kolhapur' , 'nashik' , 'nanded' , 'jalgaon'],\n",
    "    'IT COMPANYS':[23 , 45 , 9 , 18 , 3  , 6]\n",
    "}\n",
    "df = pd.DataFrame(data,columns=['CITY','IT COMPANYS'])\n",
    "df.plot(x ='CITY', y='IT COMPANYS', kind = 'bar')\n",
    "plt.show()"
   ]
  },
  {
   "cell_type": "code",
   "execution_count": null,
   "id": "777a92d6",
   "metadata": {},
   "outputs": [],
   "source": []
  }
 ],
 "metadata": {
  "kernelspec": {
   "display_name": "Python 3 (ipykernel)",
   "language": "python",
   "name": "python3"
  }
 },
 "nbformat": 4,
 "nbformat_minor": 5
}
