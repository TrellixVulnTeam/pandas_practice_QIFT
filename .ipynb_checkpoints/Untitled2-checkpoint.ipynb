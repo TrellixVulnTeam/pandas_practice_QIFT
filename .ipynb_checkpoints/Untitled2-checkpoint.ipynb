{
 "cells": [
  {
   "cell_type": "code",
   "execution_count": null,
   "id": "4cdec18e",
   "metadata": {},
   "outputs": [],
   "source": [
    "import glob\n",
    "\n",
    "glob.glob(\"D:/shubham/python/*\")"
   ]
  },
  {
   "cell_type": "code",
   "execution_count": null,
   "id": "4dbeb839",
   "metadata": {},
   "outputs": [],
   "source": []
  }
 ],
 "metadata": {
  "kernelspec": {
   "display_name": "Python 3 (ipykernel)",
   "language": "python",
   "name": "python3"
  }
 },
 "nbformat": 4,
 "nbformat_minor": 5
}
